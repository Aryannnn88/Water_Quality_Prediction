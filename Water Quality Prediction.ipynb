{
 "cells": [
  {
   "cell_type": "code",
   "execution_count": 1,
   "id": "5065c51c",
   "metadata": {},
   "outputs": [],
   "source": [
    "import pandas as pd\n",
    "import matplotlib.pyplot as plt\n",
    "import seaborn as sns"
   ]
  },
  {
   "cell_type": "code",
   "execution_count": 3,
   "id": "7121b545",
   "metadata": {},
   "outputs": [],
   "source": [
    "data= pd.read_csv(r'C:\\Users\\hp\\Desktop\\Aryannnnn\\ml assignment\\water_potability.csv')"
   ]
  },
  {
   "cell_type": "code",
   "execution_count": 4,
   "id": "4811b7c8",
   "metadata": {
    "scrolled": true
   },
   "outputs": [
    {
     "data": {
      "text/html": [
       "<div>\n",
       "<style scoped>\n",
       "    .dataframe tbody tr th:only-of-type {\n",
       "        vertical-align: middle;\n",
       "    }\n",
       "\n",
       "    .dataframe tbody tr th {\n",
       "        vertical-align: top;\n",
       "    }\n",
       "\n",
       "    .dataframe thead th {\n",
       "        text-align: right;\n",
       "    }\n",
       "</style>\n",
       "<table border=\"1\" class=\"dataframe\">\n",
       "  <thead>\n",
       "    <tr style=\"text-align: right;\">\n",
       "      <th></th>\n",
       "      <th>ph</th>\n",
       "      <th>Hardness</th>\n",
       "      <th>Solids</th>\n",
       "      <th>Chloramines</th>\n",
       "      <th>Sulfate</th>\n",
       "      <th>Conductivity</th>\n",
       "      <th>Organic_carbon</th>\n",
       "      <th>Trihalomethanes</th>\n",
       "      <th>Turbidity</th>\n",
       "      <th>Potability</th>\n",
       "    </tr>\n",
       "  </thead>\n",
       "  <tbody>\n",
       "    <tr>\n",
       "      <th>0</th>\n",
       "      <td>NaN</td>\n",
       "      <td>204.890455</td>\n",
       "      <td>20791.318981</td>\n",
       "      <td>7.300212</td>\n",
       "      <td>368.516441</td>\n",
       "      <td>564.308654</td>\n",
       "      <td>10.379783</td>\n",
       "      <td>86.990970</td>\n",
       "      <td>2.963135</td>\n",
       "      <td>0</td>\n",
       "    </tr>\n",
       "    <tr>\n",
       "      <th>1</th>\n",
       "      <td>3.716080</td>\n",
       "      <td>129.422921</td>\n",
       "      <td>18630.057858</td>\n",
       "      <td>6.635246</td>\n",
       "      <td>NaN</td>\n",
       "      <td>592.885359</td>\n",
       "      <td>15.180013</td>\n",
       "      <td>56.329076</td>\n",
       "      <td>4.500656</td>\n",
       "      <td>0</td>\n",
       "    </tr>\n",
       "    <tr>\n",
       "      <th>2</th>\n",
       "      <td>8.099124</td>\n",
       "      <td>224.236259</td>\n",
       "      <td>19909.541732</td>\n",
       "      <td>9.275884</td>\n",
       "      <td>NaN</td>\n",
       "      <td>418.606213</td>\n",
       "      <td>16.868637</td>\n",
       "      <td>66.420093</td>\n",
       "      <td>3.055934</td>\n",
       "      <td>0</td>\n",
       "    </tr>\n",
       "    <tr>\n",
       "      <th>3</th>\n",
       "      <td>8.316766</td>\n",
       "      <td>214.373394</td>\n",
       "      <td>22018.417441</td>\n",
       "      <td>8.059332</td>\n",
       "      <td>356.886136</td>\n",
       "      <td>363.266516</td>\n",
       "      <td>18.436524</td>\n",
       "      <td>100.341674</td>\n",
       "      <td>4.628771</td>\n",
       "      <td>0</td>\n",
       "    </tr>\n",
       "    <tr>\n",
       "      <th>4</th>\n",
       "      <td>9.092223</td>\n",
       "      <td>181.101509</td>\n",
       "      <td>17978.986339</td>\n",
       "      <td>6.546600</td>\n",
       "      <td>310.135738</td>\n",
       "      <td>398.410813</td>\n",
       "      <td>11.558279</td>\n",
       "      <td>31.997993</td>\n",
       "      <td>4.075075</td>\n",
       "      <td>0</td>\n",
       "    </tr>\n",
       "  </tbody>\n",
       "</table>\n",
       "</div>"
      ],
      "text/plain": [
       "         ph    Hardness        Solids  Chloramines     Sulfate  Conductivity  \\\n",
       "0       NaN  204.890455  20791.318981     7.300212  368.516441    564.308654   \n",
       "1  3.716080  129.422921  18630.057858     6.635246         NaN    592.885359   \n",
       "2  8.099124  224.236259  19909.541732     9.275884         NaN    418.606213   \n",
       "3  8.316766  214.373394  22018.417441     8.059332  356.886136    363.266516   \n",
       "4  9.092223  181.101509  17978.986339     6.546600  310.135738    398.410813   \n",
       "\n",
       "   Organic_carbon  Trihalomethanes  Turbidity  Potability  \n",
       "0       10.379783        86.990970   2.963135           0  \n",
       "1       15.180013        56.329076   4.500656           0  \n",
       "2       16.868637        66.420093   3.055934           0  \n",
       "3       18.436524       100.341674   4.628771           0  \n",
       "4       11.558279        31.997993   4.075075           0  "
      ]
     },
     "execution_count": 4,
     "metadata": {},
     "output_type": "execute_result"
    }
   ],
   "source": [
    "data.head()"
   ]
  },
  {
   "cell_type": "code",
   "execution_count": 5,
   "id": "2393469e",
   "metadata": {},
   "outputs": [
    {
     "data": {
      "text/plain": [
       "(3276, 10)"
      ]
     },
     "execution_count": 5,
     "metadata": {},
     "output_type": "execute_result"
    }
   ],
   "source": [
    "data.shape"
   ]
  },
  {
   "cell_type": "code",
   "execution_count": 6,
   "id": "4467f593",
   "metadata": {},
   "outputs": [
    {
     "name": "stdout",
     "output_type": "stream",
     "text": [
      "<class 'pandas.core.frame.DataFrame'>\n",
      "RangeIndex: 3276 entries, 0 to 3275\n",
      "Data columns (total 10 columns):\n",
      " #   Column           Non-Null Count  Dtype  \n",
      "---  ------           --------------  -----  \n",
      " 0   ph               2785 non-null   float64\n",
      " 1   Hardness         3276 non-null   float64\n",
      " 2   Solids           3276 non-null   float64\n",
      " 3   Chloramines      3276 non-null   float64\n",
      " 4   Sulfate          2495 non-null   float64\n",
      " 5   Conductivity     3276 non-null   float64\n",
      " 6   Organic_carbon   3276 non-null   float64\n",
      " 7   Trihalomethanes  3114 non-null   float64\n",
      " 8   Turbidity        3276 non-null   float64\n",
      " 9   Potability       3276 non-null   int64  \n",
      "dtypes: float64(9), int64(1)\n",
      "memory usage: 256.1 KB\n"
     ]
    }
   ],
   "source": [
    "data.info()"
   ]
  },
  {
   "cell_type": "code",
   "execution_count": 7,
   "id": "d545979b",
   "metadata": {},
   "outputs": [
    {
     "data": {
      "text/plain": [
       "ph                 491\n",
       "Hardness             0\n",
       "Solids               0\n",
       "Chloramines          0\n",
       "Sulfate            781\n",
       "Conductivity         0\n",
       "Organic_carbon       0\n",
       "Trihalomethanes    162\n",
       "Turbidity            0\n",
       "Potability           0\n",
       "dtype: int64"
      ]
     },
     "execution_count": 7,
     "metadata": {},
     "output_type": "execute_result"
    }
   ],
   "source": [
    "data.isnull().sum()"
   ]
  },
  {
   "cell_type": "code",
   "execution_count": 8,
   "id": "03af2827",
   "metadata": {},
   "outputs": [],
   "source": [
    "data=data.fillna(data.mean())"
   ]
  },
  {
   "cell_type": "code",
   "execution_count": 9,
   "id": "3888685b",
   "metadata": {},
   "outputs": [
    {
     "data": {
      "text/html": [
       "<div>\n",
       "<style scoped>\n",
       "    .dataframe tbody tr th:only-of-type {\n",
       "        vertical-align: middle;\n",
       "    }\n",
       "\n",
       "    .dataframe tbody tr th {\n",
       "        vertical-align: top;\n",
       "    }\n",
       "\n",
       "    .dataframe thead th {\n",
       "        text-align: right;\n",
       "    }\n",
       "</style>\n",
       "<table border=\"1\" class=\"dataframe\">\n",
       "  <thead>\n",
       "    <tr style=\"text-align: right;\">\n",
       "      <th></th>\n",
       "      <th>ph</th>\n",
       "      <th>Hardness</th>\n",
       "      <th>Solids</th>\n",
       "      <th>Chloramines</th>\n",
       "      <th>Sulfate</th>\n",
       "      <th>Conductivity</th>\n",
       "      <th>Organic_carbon</th>\n",
       "      <th>Trihalomethanes</th>\n",
       "      <th>Turbidity</th>\n",
       "      <th>Potability</th>\n",
       "    </tr>\n",
       "  </thead>\n",
       "  <tbody>\n",
       "    <tr>\n",
       "      <th>0</th>\n",
       "      <td>7.080795</td>\n",
       "      <td>204.890455</td>\n",
       "      <td>20791.318981</td>\n",
       "      <td>7.300212</td>\n",
       "      <td>368.516441</td>\n",
       "      <td>564.308654</td>\n",
       "      <td>10.379783</td>\n",
       "      <td>86.990970</td>\n",
       "      <td>2.963135</td>\n",
       "      <td>0</td>\n",
       "    </tr>\n",
       "    <tr>\n",
       "      <th>1</th>\n",
       "      <td>3.716080</td>\n",
       "      <td>129.422921</td>\n",
       "      <td>18630.057858</td>\n",
       "      <td>6.635246</td>\n",
       "      <td>333.775777</td>\n",
       "      <td>592.885359</td>\n",
       "      <td>15.180013</td>\n",
       "      <td>56.329076</td>\n",
       "      <td>4.500656</td>\n",
       "      <td>0</td>\n",
       "    </tr>\n",
       "    <tr>\n",
       "      <th>2</th>\n",
       "      <td>8.099124</td>\n",
       "      <td>224.236259</td>\n",
       "      <td>19909.541732</td>\n",
       "      <td>9.275884</td>\n",
       "      <td>333.775777</td>\n",
       "      <td>418.606213</td>\n",
       "      <td>16.868637</td>\n",
       "      <td>66.420093</td>\n",
       "      <td>3.055934</td>\n",
       "      <td>0</td>\n",
       "    </tr>\n",
       "    <tr>\n",
       "      <th>3</th>\n",
       "      <td>8.316766</td>\n",
       "      <td>214.373394</td>\n",
       "      <td>22018.417441</td>\n",
       "      <td>8.059332</td>\n",
       "      <td>356.886136</td>\n",
       "      <td>363.266516</td>\n",
       "      <td>18.436524</td>\n",
       "      <td>100.341674</td>\n",
       "      <td>4.628771</td>\n",
       "      <td>0</td>\n",
       "    </tr>\n",
       "    <tr>\n",
       "      <th>4</th>\n",
       "      <td>9.092223</td>\n",
       "      <td>181.101509</td>\n",
       "      <td>17978.986339</td>\n",
       "      <td>6.546600</td>\n",
       "      <td>310.135738</td>\n",
       "      <td>398.410813</td>\n",
       "      <td>11.558279</td>\n",
       "      <td>31.997993</td>\n",
       "      <td>4.075075</td>\n",
       "      <td>0</td>\n",
       "    </tr>\n",
       "    <tr>\n",
       "      <th>...</th>\n",
       "      <td>...</td>\n",
       "      <td>...</td>\n",
       "      <td>...</td>\n",
       "      <td>...</td>\n",
       "      <td>...</td>\n",
       "      <td>...</td>\n",
       "      <td>...</td>\n",
       "      <td>...</td>\n",
       "      <td>...</td>\n",
       "      <td>...</td>\n",
       "    </tr>\n",
       "    <tr>\n",
       "      <th>3271</th>\n",
       "      <td>4.668102</td>\n",
       "      <td>193.681735</td>\n",
       "      <td>47580.991603</td>\n",
       "      <td>7.166639</td>\n",
       "      <td>359.948574</td>\n",
       "      <td>526.424171</td>\n",
       "      <td>13.894419</td>\n",
       "      <td>66.687695</td>\n",
       "      <td>4.435821</td>\n",
       "      <td>1</td>\n",
       "    </tr>\n",
       "    <tr>\n",
       "      <th>3272</th>\n",
       "      <td>7.808856</td>\n",
       "      <td>193.553212</td>\n",
       "      <td>17329.802160</td>\n",
       "      <td>8.061362</td>\n",
       "      <td>333.775777</td>\n",
       "      <td>392.449580</td>\n",
       "      <td>19.903225</td>\n",
       "      <td>66.396293</td>\n",
       "      <td>2.798243</td>\n",
       "      <td>1</td>\n",
       "    </tr>\n",
       "    <tr>\n",
       "      <th>3273</th>\n",
       "      <td>9.419510</td>\n",
       "      <td>175.762646</td>\n",
       "      <td>33155.578218</td>\n",
       "      <td>7.350233</td>\n",
       "      <td>333.775777</td>\n",
       "      <td>432.044783</td>\n",
       "      <td>11.039070</td>\n",
       "      <td>69.845400</td>\n",
       "      <td>3.298875</td>\n",
       "      <td>1</td>\n",
       "    </tr>\n",
       "    <tr>\n",
       "      <th>3274</th>\n",
       "      <td>5.126763</td>\n",
       "      <td>230.603758</td>\n",
       "      <td>11983.869376</td>\n",
       "      <td>6.303357</td>\n",
       "      <td>333.775777</td>\n",
       "      <td>402.883113</td>\n",
       "      <td>11.168946</td>\n",
       "      <td>77.488213</td>\n",
       "      <td>4.708658</td>\n",
       "      <td>1</td>\n",
       "    </tr>\n",
       "    <tr>\n",
       "      <th>3275</th>\n",
       "      <td>7.874671</td>\n",
       "      <td>195.102299</td>\n",
       "      <td>17404.177061</td>\n",
       "      <td>7.509306</td>\n",
       "      <td>333.775777</td>\n",
       "      <td>327.459760</td>\n",
       "      <td>16.140368</td>\n",
       "      <td>78.698446</td>\n",
       "      <td>2.309149</td>\n",
       "      <td>1</td>\n",
       "    </tr>\n",
       "  </tbody>\n",
       "</table>\n",
       "<p>3276 rows × 10 columns</p>\n",
       "</div>"
      ],
      "text/plain": [
       "            ph    Hardness        Solids  Chloramines     Sulfate  \\\n",
       "0     7.080795  204.890455  20791.318981     7.300212  368.516441   \n",
       "1     3.716080  129.422921  18630.057858     6.635246  333.775777   \n",
       "2     8.099124  224.236259  19909.541732     9.275884  333.775777   \n",
       "3     8.316766  214.373394  22018.417441     8.059332  356.886136   \n",
       "4     9.092223  181.101509  17978.986339     6.546600  310.135738   \n",
       "...        ...         ...           ...          ...         ...   \n",
       "3271  4.668102  193.681735  47580.991603     7.166639  359.948574   \n",
       "3272  7.808856  193.553212  17329.802160     8.061362  333.775777   \n",
       "3273  9.419510  175.762646  33155.578218     7.350233  333.775777   \n",
       "3274  5.126763  230.603758  11983.869376     6.303357  333.775777   \n",
       "3275  7.874671  195.102299  17404.177061     7.509306  333.775777   \n",
       "\n",
       "      Conductivity  Organic_carbon  Trihalomethanes  Turbidity  Potability  \n",
       "0       564.308654       10.379783        86.990970   2.963135           0  \n",
       "1       592.885359       15.180013        56.329076   4.500656           0  \n",
       "2       418.606213       16.868637        66.420093   3.055934           0  \n",
       "3       363.266516       18.436524       100.341674   4.628771           0  \n",
       "4       398.410813       11.558279        31.997993   4.075075           0  \n",
       "...            ...             ...              ...        ...         ...  \n",
       "3271    526.424171       13.894419        66.687695   4.435821           1  \n",
       "3272    392.449580       19.903225        66.396293   2.798243           1  \n",
       "3273    432.044783       11.039070        69.845400   3.298875           1  \n",
       "3274    402.883113       11.168946        77.488213   4.708658           1  \n",
       "3275    327.459760       16.140368        78.698446   2.309149           1  \n",
       "\n",
       "[3276 rows x 10 columns]"
      ]
     },
     "execution_count": 9,
     "metadata": {},
     "output_type": "execute_result"
    }
   ],
   "source": [
    "data"
   ]
  },
  {
   "cell_type": "code",
   "execution_count": null,
   "id": "be270480",
   "metadata": {},
   "outputs": [],
   "source": []
  },
  {
   "cell_type": "code",
   "execution_count": 10,
   "id": "4897d0ae",
   "metadata": {},
   "outputs": [
    {
     "data": {
      "text/html": [
       "<div>\n",
       "<style scoped>\n",
       "    .dataframe tbody tr th:only-of-type {\n",
       "        vertical-align: middle;\n",
       "    }\n",
       "\n",
       "    .dataframe tbody tr th {\n",
       "        vertical-align: top;\n",
       "    }\n",
       "\n",
       "    .dataframe thead th {\n",
       "        text-align: right;\n",
       "    }\n",
       "</style>\n",
       "<table border=\"1\" class=\"dataframe\">\n",
       "  <thead>\n",
       "    <tr style=\"text-align: right;\">\n",
       "      <th></th>\n",
       "      <th>ph</th>\n",
       "      <th>Hardness</th>\n",
       "      <th>Solids</th>\n",
       "      <th>Chloramines</th>\n",
       "      <th>Sulfate</th>\n",
       "      <th>Conductivity</th>\n",
       "      <th>Organic_carbon</th>\n",
       "      <th>Trihalomethanes</th>\n",
       "      <th>Turbidity</th>\n",
       "      <th>Potability</th>\n",
       "    </tr>\n",
       "  </thead>\n",
       "  <tbody>\n",
       "    <tr>\n",
       "      <th>count</th>\n",
       "      <td>3276.000000</td>\n",
       "      <td>3276.000000</td>\n",
       "      <td>3276.000000</td>\n",
       "      <td>3276.000000</td>\n",
       "      <td>3276.000000</td>\n",
       "      <td>3276.000000</td>\n",
       "      <td>3276.000000</td>\n",
       "      <td>3276.000000</td>\n",
       "      <td>3276.000000</td>\n",
       "      <td>3276.000000</td>\n",
       "    </tr>\n",
       "    <tr>\n",
       "      <th>mean</th>\n",
       "      <td>7.080795</td>\n",
       "      <td>196.369496</td>\n",
       "      <td>22014.092526</td>\n",
       "      <td>7.122277</td>\n",
       "      <td>333.775777</td>\n",
       "      <td>426.205111</td>\n",
       "      <td>14.284970</td>\n",
       "      <td>66.396293</td>\n",
       "      <td>3.966786</td>\n",
       "      <td>0.390110</td>\n",
       "    </tr>\n",
       "    <tr>\n",
       "      <th>std</th>\n",
       "      <td>1.469956</td>\n",
       "      <td>32.879761</td>\n",
       "      <td>8768.570828</td>\n",
       "      <td>1.583085</td>\n",
       "      <td>36.142612</td>\n",
       "      <td>80.824064</td>\n",
       "      <td>3.308162</td>\n",
       "      <td>15.769881</td>\n",
       "      <td>0.780382</td>\n",
       "      <td>0.487849</td>\n",
       "    </tr>\n",
       "    <tr>\n",
       "      <th>min</th>\n",
       "      <td>0.000000</td>\n",
       "      <td>47.432000</td>\n",
       "      <td>320.942611</td>\n",
       "      <td>0.352000</td>\n",
       "      <td>129.000000</td>\n",
       "      <td>181.483754</td>\n",
       "      <td>2.200000</td>\n",
       "      <td>0.738000</td>\n",
       "      <td>1.450000</td>\n",
       "      <td>0.000000</td>\n",
       "    </tr>\n",
       "    <tr>\n",
       "      <th>25%</th>\n",
       "      <td>6.277673</td>\n",
       "      <td>176.850538</td>\n",
       "      <td>15666.690297</td>\n",
       "      <td>6.127421</td>\n",
       "      <td>317.094638</td>\n",
       "      <td>365.734414</td>\n",
       "      <td>12.065801</td>\n",
       "      <td>56.647656</td>\n",
       "      <td>3.439711</td>\n",
       "      <td>0.000000</td>\n",
       "    </tr>\n",
       "    <tr>\n",
       "      <th>50%</th>\n",
       "      <td>7.080795</td>\n",
       "      <td>196.967627</td>\n",
       "      <td>20927.833607</td>\n",
       "      <td>7.130299</td>\n",
       "      <td>333.775777</td>\n",
       "      <td>421.884968</td>\n",
       "      <td>14.218338</td>\n",
       "      <td>66.396293</td>\n",
       "      <td>3.955028</td>\n",
       "      <td>0.000000</td>\n",
       "    </tr>\n",
       "    <tr>\n",
       "      <th>75%</th>\n",
       "      <td>7.870050</td>\n",
       "      <td>216.667456</td>\n",
       "      <td>27332.762127</td>\n",
       "      <td>8.114887</td>\n",
       "      <td>350.385756</td>\n",
       "      <td>481.792304</td>\n",
       "      <td>16.557652</td>\n",
       "      <td>76.666609</td>\n",
       "      <td>4.500320</td>\n",
       "      <td>1.000000</td>\n",
       "    </tr>\n",
       "    <tr>\n",
       "      <th>max</th>\n",
       "      <td>14.000000</td>\n",
       "      <td>323.124000</td>\n",
       "      <td>61227.196008</td>\n",
       "      <td>13.127000</td>\n",
       "      <td>481.030642</td>\n",
       "      <td>753.342620</td>\n",
       "      <td>28.300000</td>\n",
       "      <td>124.000000</td>\n",
       "      <td>6.739000</td>\n",
       "      <td>1.000000</td>\n",
       "    </tr>\n",
       "  </tbody>\n",
       "</table>\n",
       "</div>"
      ],
      "text/plain": [
       "                ph     Hardness        Solids  Chloramines      Sulfate  \\\n",
       "count  3276.000000  3276.000000   3276.000000  3276.000000  3276.000000   \n",
       "mean      7.080795   196.369496  22014.092526     7.122277   333.775777   \n",
       "std       1.469956    32.879761   8768.570828     1.583085    36.142612   \n",
       "min       0.000000    47.432000    320.942611     0.352000   129.000000   \n",
       "25%       6.277673   176.850538  15666.690297     6.127421   317.094638   \n",
       "50%       7.080795   196.967627  20927.833607     7.130299   333.775777   \n",
       "75%       7.870050   216.667456  27332.762127     8.114887   350.385756   \n",
       "max      14.000000   323.124000  61227.196008    13.127000   481.030642   \n",
       "\n",
       "       Conductivity  Organic_carbon  Trihalomethanes    Turbidity   Potability  \n",
       "count   3276.000000     3276.000000      3276.000000  3276.000000  3276.000000  \n",
       "mean     426.205111       14.284970        66.396293     3.966786     0.390110  \n",
       "std       80.824064        3.308162        15.769881     0.780382     0.487849  \n",
       "min      181.483754        2.200000         0.738000     1.450000     0.000000  \n",
       "25%      365.734414       12.065801        56.647656     3.439711     0.000000  \n",
       "50%      421.884968       14.218338        66.396293     3.955028     0.000000  \n",
       "75%      481.792304       16.557652        76.666609     4.500320     1.000000  \n",
       "max      753.342620       28.300000       124.000000     6.739000     1.000000  "
      ]
     },
     "execution_count": 10,
     "metadata": {},
     "output_type": "execute_result"
    }
   ],
   "source": [
    "data.describe()"
   ]
  },
  {
   "cell_type": "code",
   "execution_count": null,
   "id": "5ca19d47",
   "metadata": {},
   "outputs": [],
   "source": []
  },
  {
   "cell_type": "code",
   "execution_count": 11,
   "id": "ece021e9",
   "metadata": {},
   "outputs": [
    {
     "data": {
      "image/png": "[encoded data removed]",
      "text/plain": [
       "<Figure size 792x432 with 2 Axes>"
      ]
     },
     "metadata": {
      "needs_background": "light"
     },
     "output_type": "display_data"
    }
   ],
   "source": [
    "sns.heatmap(data.corr(),annot=True,cmap='terrain')\n",
    "fig=plt.gcf()\n",
    "fig.set_size_inches(11,6)\n",
    "plt.show()"
   ]
  },
  {
   "cell_type": "code",
   "execution_count": null,
   "id": "da821ef3",
   "metadata": {},
   "outputs": [],
   "source": []
  },
  {
   "cell_type": "code",
   "execution_count": 12,
   "id": "717d88ac",
   "metadata": {},
   "outputs": [
    {
     "data": {
      "text/plain": [
       "0    1998\n",
       "1    1278\n",
       "Name: Potability, dtype: int64"
      ]
     },
     "execution_count": 12,
     "metadata": {},
     "output_type": "execute_result"
    }
   ],
   "source": [
    "data['Potability'].value_counts()"
   ]
  },
  {
   "cell_type": "code",
   "execution_count": 13,
   "id": "dbfacdc8",
   "metadata": {},
   "outputs": [
    {
     "name": "stderr",
     "output_type": "stream",
     "text": [
      "C:\\ProgramData\\Anaconda3\\lib\\site-packages\\seaborn\\_decorators.py:36: FutureWarning: Pass the following variable as a keyword arg: x. From version 0.12, the only valid positional argument will be `data`, and passing other arguments without an explicit keyword will result in an error or misinterpretation.\n",
      "  warnings.warn(\n"
     ]
    },
    {
     "data": {
      "text/plain": [
       "<AxesSubplot:xlabel='Potability', ylabel='count'>"
      ]
     },
     "execution_count": 13,
     "metadata": {},
     "output_type": "execute_result"
    },
    {
     "data": {
      "image/png": "[encoded data removed]",
      "text/plain": [
       "<Figure size 432x288 with 1 Axes>"
      ]
     },
     "metadata": {
      "needs_background": "light"
     },
     "output_type": "display_data"
    }
   ],
   "source": [
    "sns.countplot(data['Potability'])"
   ]
  },
  {
   "cell_type": "code",
   "execution_count": 14,
   "id": "6def1813",
   "metadata": {},
   "outputs": [
    {
     "data": {
      "image/png": "[encoded data removed]",
      "text/plain": [
       "<Figure size 1008x864 with 12 Axes>"
      ]
     },
     "metadata": {
      "needs_background": "light"
     },
     "output_type": "display_data"
    }
   ],
   "source": [
    "data.hist(figsize=(14,12))\n",
    "plt.show()"
   ]
  },
  {
   "cell_type": "code",
   "execution_count": null,
   "id": "141c8258",
   "metadata": {},
   "outputs": [],
   "source": []
  },
  {
   "cell_type": "code",
   "execution_count": 15,
   "id": "069d081a",
   "metadata": {},
   "outputs": [
    {
     "data": {
      "image/png": "[encoded data removed]",
      "text/plain": [
       "<Figure size 432x288 with 1 Axes>"
      ]
     },
     "metadata": {
      "needs_background": "light"
     },
     "output_type": "display_data"
    }
   ],
   "source": [
    "sns.scatterplot(x=data['ph'],y=data['Potability'])\n",
    "plt.show()"
   ]
  },
  {
   "cell_type": "code",
   "execution_count": 16,
   "id": "5d705d65",
   "metadata": {},
   "outputs": [
    {
     "data": {
      "text/plain": [
       "<AxesSubplot:>"
      ]
     },
     "execution_count": 16,
     "metadata": {},
     "output_type": "execute_result"
    },
    {
     "data": {
      "image/png": "[encoded data removed]",
      "text/plain": [
       "<Figure size 1080x432 with 1 Axes>"
      ]
     },
     "metadata": {
      "needs_background": "light"
     },
     "output_type": "display_data"
    }
   ],
   "source": [
    "data.boxplot(figsize=(15,6))"
   ]
  },
  {
   "cell_type": "code",
   "execution_count": 17,
   "id": "32b89ecb",
   "metadata": {},
   "outputs": [
    {
     "data": {
      "text/plain": [
       "count     3276.000000\n",
       "mean     22014.092526\n",
       "std       8768.570828\n",
       "min        320.942611\n",
       "25%      15666.690297\n",
       "50%      20927.833607\n",
       "75%      27332.762127\n",
       "max      61227.196008\n",
       "Name: Solids, dtype: float64"
      ]
     },
     "execution_count": 17,
     "metadata": {},
     "output_type": "execute_result"
    }
   ],
   "source": [
    "data['Solids'].describe()"
   ]
  },
  {
   "cell_type": "code",
   "execution_count": null,
   "id": "c6cf911a",
   "metadata": {},
   "outputs": [],
   "source": []
  },
  {
   "cell_type": "code",
   "execution_count": 18,
   "id": "874c919d",
   "metadata": {},
   "outputs": [],
   "source": [
    "X=data.drop('Potability',axis=1)"
   ]
  },
  {
   "cell_type": "code",
   "execution_count": 19,
   "id": "13d4d713",
   "metadata": {},
   "outputs": [],
   "source": [
    "Y=data['Potability']"
   ]
  },
  {
   "cell_type": "code",
   "execution_count": 20,
   "id": "7ea0cdcf",
   "metadata": {},
   "outputs": [],
   "source": [
    "from sklearn.model_selection import train_test_split"
   ]
  },
  {
   "cell_type": "code",
   "execution_count": 21,
   "id": "3f27d4a9",
   "metadata": {},
   "outputs": [],
   "source": [
    "X_train,X_test,Y_train,Y_test = train_test_split(X,Y,test_size=0.2,shuffle=True,random_state=101)"
   ]
  },
  {
   "cell_type": "code",
   "execution_count": null,
   "id": "0f8e7e03",
   "metadata": {},
   "outputs": [],
   "source": []
  },
  {
   "cell_type": "markdown",
   "id": "c549f924",
   "metadata": {},
   "source": [
    "### decision tree"
   ]
  },
  {
   "cell_type": "code",
   "execution_count": 37,
   "id": "8598f392",
   "metadata": {},
   "outputs": [],
   "source": [
    "from sklearn.tree import DecisionTreeClassifier\n",
    "dt= DecisionTreeClassifier(criterion= 'entropy', min_samples_split= 9, splitter= 'best')"
   ]
  },
  {
   "cell_type": "code",
   "execution_count": 38,
   "id": "4d7a704f",
   "metadata": {},
   "outputs": [
    {
     "data": {
      "text/plain": [
       "DecisionTreeClassifier(criterion='entropy', min_samples_split=9)"
      ]
     },
     "execution_count": 38,
     "metadata": {},
     "output_type": "execute_result"
    }
   ],
   "source": [
    "dt.fit(X_train,Y_train)"
   ]
  },
  {
   "cell_type": "code",
   "execution_count": 39,
   "id": "d06e1de4",
   "metadata": {},
   "outputs": [
    {
     "data": {
      "text/html": [
       "<div>\n",
       "<style scoped>\n",
       "    .dataframe tbody tr th:only-of-type {\n",
       "        vertical-align: middle;\n",
       "    }\n",
       "\n",
       "    .dataframe tbody tr th {\n",
       "        vertical-align: top;\n",
       "    }\n",
       "\n",
       "    .dataframe thead th {\n",
       "        text-align: right;\n",
       "    }\n",
       "</style>\n",
       "<table border=\"1\" class=\"dataframe\">\n",
       "  <thead>\n",
       "    <tr style=\"text-align: right;\">\n",
       "      <th></th>\n",
       "      <th>ph</th>\n",
       "      <th>Hardness</th>\n",
       "      <th>Solids</th>\n",
       "      <th>Chloramines</th>\n",
       "      <th>Sulfate</th>\n",
       "      <th>Conductivity</th>\n",
       "      <th>Organic_carbon</th>\n",
       "      <th>Trihalomethanes</th>\n",
       "      <th>Turbidity</th>\n",
       "    </tr>\n",
       "  </thead>\n",
       "  <tbody>\n",
       "    <tr>\n",
       "      <th>2541</th>\n",
       "      <td>5.735724</td>\n",
       "      <td>158.318741</td>\n",
       "      <td>25363.016594</td>\n",
       "      <td>7.728601</td>\n",
       "      <td>377.543291</td>\n",
       "      <td>568.304671</td>\n",
       "      <td>13.626624</td>\n",
       "      <td>75.952337</td>\n",
       "      <td>4.732954</td>\n",
       "    </tr>\n",
       "    <tr>\n",
       "      <th>2605</th>\n",
       "      <td>8.445219</td>\n",
       "      <td>228.522860</td>\n",
       "      <td>28966.569327</td>\n",
       "      <td>6.179855</td>\n",
       "      <td>333.775777</td>\n",
       "      <td>361.705354</td>\n",
       "      <td>14.554220</td>\n",
       "      <td>60.612230</td>\n",
       "      <td>4.400706</td>\n",
       "    </tr>\n",
       "    <tr>\n",
       "      <th>330</th>\n",
       "      <td>6.737004</td>\n",
       "      <td>220.100102</td>\n",
       "      <td>24694.744205</td>\n",
       "      <td>8.373660</td>\n",
       "      <td>333.775777</td>\n",
       "      <td>384.308673</td>\n",
       "      <td>6.748092</td>\n",
       "      <td>8.175876</td>\n",
       "      <td>4.063170</td>\n",
       "    </tr>\n",
       "    <tr>\n",
       "      <th>515</th>\n",
       "      <td>5.701155</td>\n",
       "      <td>233.515043</td>\n",
       "      <td>41411.601707</td>\n",
       "      <td>5.895464</td>\n",
       "      <td>310.160545</td>\n",
       "      <td>509.767888</td>\n",
       "      <td>22.686837</td>\n",
       "      <td>73.751883</td>\n",
       "      <td>3.403136</td>\n",
       "    </tr>\n",
       "    <tr>\n",
       "      <th>400</th>\n",
       "      <td>6.259652</td>\n",
       "      <td>208.379430</td>\n",
       "      <td>37356.746401</td>\n",
       "      <td>8.565487</td>\n",
       "      <td>256.473839</td>\n",
       "      <td>380.240193</td>\n",
       "      <td>5.567693</td>\n",
       "      <td>68.441865</td>\n",
       "      <td>4.213405</td>\n",
       "    </tr>\n",
       "    <tr>\n",
       "      <th>...</th>\n",
       "      <td>...</td>\n",
       "      <td>...</td>\n",
       "      <td>...</td>\n",
       "      <td>...</td>\n",
       "      <td>...</td>\n",
       "      <td>...</td>\n",
       "      <td>...</td>\n",
       "      <td>...</td>\n",
       "      <td>...</td>\n",
       "    </tr>\n",
       "    <tr>\n",
       "      <th>482</th>\n",
       "      <td>7.705711</td>\n",
       "      <td>178.922858</td>\n",
       "      <td>18476.619166</td>\n",
       "      <td>8.226228</td>\n",
       "      <td>334.889911</td>\n",
       "      <td>518.043369</td>\n",
       "      <td>10.638798</td>\n",
       "      <td>63.157489</td>\n",
       "      <td>3.861956</td>\n",
       "    </tr>\n",
       "    <tr>\n",
       "      <th>2970</th>\n",
       "      <td>10.933111</td>\n",
       "      <td>162.424918</td>\n",
       "      <td>18846.634913</td>\n",
       "      <td>7.085261</td>\n",
       "      <td>333.775777</td>\n",
       "      <td>593.725764</td>\n",
       "      <td>14.977233</td>\n",
       "      <td>60.690580</td>\n",
       "      <td>3.894989</td>\n",
       "    </tr>\n",
       "    <tr>\n",
       "      <th>50</th>\n",
       "      <td>7.080795</td>\n",
       "      <td>168.388431</td>\n",
       "      <td>27492.307307</td>\n",
       "      <td>7.046225</td>\n",
       "      <td>299.820478</td>\n",
       "      <td>383.795020</td>\n",
       "      <td>16.182066</td>\n",
       "      <td>75.729434</td>\n",
       "      <td>3.048057</td>\n",
       "    </tr>\n",
       "    <tr>\n",
       "      <th>839</th>\n",
       "      <td>7.611610</td>\n",
       "      <td>222.252269</td>\n",
       "      <td>25063.683013</td>\n",
       "      <td>8.561124</td>\n",
       "      <td>287.948123</td>\n",
       "      <td>505.265483</td>\n",
       "      <td>18.273757</td>\n",
       "      <td>68.395413</td>\n",
       "      <td>2.873261</td>\n",
       "    </tr>\n",
       "    <tr>\n",
       "      <th>374</th>\n",
       "      <td>8.882684</td>\n",
       "      <td>135.523062</td>\n",
       "      <td>4857.253807</td>\n",
       "      <td>5.209779</td>\n",
       "      <td>333.775777</td>\n",
       "      <td>532.336659</td>\n",
       "      <td>20.296274</td>\n",
       "      <td>20.337753</td>\n",
       "      <td>3.827921</td>\n",
       "    </tr>\n",
       "  </tbody>\n",
       "</table>\n",
       "<p>656 rows × 9 columns</p>\n",
       "</div>"
      ],
      "text/plain": [
       "             ph    Hardness        Solids  Chloramines     Sulfate  \\\n",
       "2541   5.735724  158.318741  25363.016594     7.728601  377.543291   \n",
       "2605   8.445219  228.522860  28966.569327     6.179855  333.775777   \n",
       "330    6.737004  220.100102  24694.744205     8.373660  333.775777   \n",
       "515    5.701155  233.515043  41411.601707     5.895464  310.160545   \n",
       "400    6.259652  208.379430  37356.746401     8.565487  256.473839   \n",
       "...         ...         ...           ...          ...         ...   \n",
       "482    7.705711  178.922858  18476.619166     8.226228  334.889911   \n",
       "2970  10.933111  162.424918  18846.634913     7.085261  333.775777   \n",
       "50     7.080795  168.388431  27492.307307     7.046225  299.820478   \n",
       "839    7.611610  222.252269  25063.683013     8.561124  287.948123   \n",
       "374    8.882684  135.523062   4857.253807     5.209779  333.775777   \n",
       "\n",
       "      Conductivity  Organic_carbon  Trihalomethanes  Turbidity  \n",
       "2541    568.304671       13.626624        75.952337   4.732954  \n",
       "2605    361.705354       14.554220        60.612230   4.400706  \n",
       "330     384.308673        6.748092         8.175876   4.063170  \n",
       "515     509.767888       22.686837        73.751883   3.403136  \n",
       "400     380.240193        5.567693        68.441865   4.213405  \n",
       "...            ...             ...              ...        ...  \n",
       "482     518.043369       10.638798        63.157489   3.861956  \n",
       "2970    593.725764       14.977233        60.690580   3.894989  \n",
       "50      383.795020       16.182066        75.729434   3.048057  \n",
       "839     505.265483       18.273757        68.395413   2.873261  \n",
       "374     532.336659       20.296274        20.337753   3.827921  \n",
       "\n",
       "[656 rows x 9 columns]"
      ]
     },
     "execution_count": 39,
     "metadata": {},
     "output_type": "execute_result"
    }
   ],
   "source": [
    "X_test"
   ]
  },
  {
   "cell_type": "code",
   "execution_count": 40,
   "id": "84897f99",
   "metadata": {},
   "outputs": [
    {
     "data": {
      "text/plain": [
       "2541    0\n",
       "2605    0\n",
       "330     1\n",
       "515     0\n",
       "400     1\n",
       "       ..\n",
       "482     0\n",
       "2970    0\n",
       "50      0\n",
       "839     0\n",
       "374     1\n",
       "Name: Potability, Length: 656, dtype: int64"
      ]
     },
     "execution_count": 40,
     "metadata": {},
     "output_type": "execute_result"
    }
   ],
   "source": [
    "Y_test"
   ]
  },
  {
   "cell_type": "code",
   "execution_count": 41,
   "id": "2d29fb19",
   "metadata": {},
   "outputs": [],
   "source": [
    "Y_prediction=dt.predict(X_test)"
   ]
  },
  {
   "cell_type": "code",
   "execution_count": 42,
   "id": "26d347f8",
   "metadata": {},
   "outputs": [],
   "source": [
    "from sklearn.metrics import accuracy_score,confusion_matrix"
   ]
  },
  {
   "cell_type": "code",
   "execution_count": 43,
   "id": "463558b2",
   "metadata": {},
   "outputs": [
    {
     "data": {
      "text/plain": [
       "0.600609756097561"
      ]
     },
     "execution_count": 43,
     "metadata": {},
     "output_type": "execute_result"
    }
   ],
   "source": [
    "accuracy_score(Y_prediction,Y_test)"
   ]
  },
  {
   "cell_type": "code",
   "execution_count": 44,
   "id": "b1de79ac",
   "metadata": {},
   "outputs": [
    {
     "data": {
      "text/plain": [
       "array([[265, 125],\n",
       "       [137, 129]], dtype=int64)"
      ]
     },
     "execution_count": 44,
     "metadata": {},
     "output_type": "execute_result"
    }
   ],
   "source": [
    "confusion_matrix(Y_prediction,Y_test)"
   ]
  },
  {
   "cell_type": "code",
   "execution_count": 45,
   "id": "6b926b89",
   "metadata": {},
   "outputs": [
    {
     "data": {
      "text/plain": [
       "(656,)"
      ]
     },
     "execution_count": 45,
     "metadata": {},
     "output_type": "execute_result"
    }
   ],
   "source": [
    "Y_test.shape"
   ]
  },
  {
   "cell_type": "code",
   "execution_count": null,
   "id": "29d8eb5b",
   "metadata": {},
   "outputs": [],
   "source": []
  },
  {
   "cell_type": "markdown",
   "id": "50f8c99c",
   "metadata": {},
   "source": [
    "# HPT"
   ]
  },
  {
   "cell_type": "code",
   "execution_count": 31,
   "id": "631a505f",
   "metadata": {},
   "outputs": [],
   "source": [
    "from sklearn.model_selection import GridSearchCV\n",
    "from sklearn.model_selection import RepeatedStratifiedKFold\n",
    "\n",
    "dt=DecisionTreeClassifier()\n",
    "\n",
    "criterion = [\"gini\", \"entropy\"]\n",
    "splitter=['best','random']\n",
    "min_samples_split=range(1,10)\n",
    "\n",
    "parameters=dict(criterion=criterion,splitter=splitter,min_samples_split=min_samples_split)\n",
    "cv=RepeatedStratifiedKFold(n_splits=5,random_state=101)\n",
    "\n",
    "grid_search_cv_dt=GridSearchCV(estimator=dt, param_grid=parameters, scoring='accuracy',cv=cv)"
   ]
  },
  {
   "cell_type": "code",
   "execution_count": 50,
   "id": "75c1f1d0",
   "metadata": {},
   "outputs": [
    {
     "name": "stderr",
     "output_type": "stream",
     "text": [
      "C:\\ProgramData\\Anaconda3\\lib\\site-packages\\sklearn\\model_selection\\_validation.py:372: FitFailedWarning: \n",
      "200 fits failed out of a total of 1800.\n",
      "The score on these train-test partitions for these parameters will be set to nan.\n",
      "If these failures are not expected, you can try to debug them by setting error_score='raise'.\n",
      "\n",
      "Below are more details about the failures:\n",
      "--------------------------------------------------------------------------------\n",
      "200 fits failed with the following error:\n",
      "Traceback (most recent call last):\n",
      "  File \"C:\\ProgramData\\Anaconda3\\lib\\site-packages\\sklearn\\model_selection\\_validation.py\", line 680, in _fit_and_score\n",
      "    estimator.fit(X_train, y_train, **fit_params)\n",
      "  File \"C:\\ProgramData\\Anaconda3\\lib\\site-packages\\sklearn\\tree\\_classes.py\", line 937, in fit\n",
      "    super().fit(\n",
      "  File \"C:\\ProgramData\\Anaconda3\\lib\\site-packages\\sklearn\\tree\\_classes.py\", line 250, in fit\n",
      "    raise ValueError(\n",
      "ValueError: min_samples_split must be an integer greater than 1 or a float in (0.0, 1.0]; got the integer 1\n",
      "\n",
      "  warnings.warn(some_fits_failed_message, FitFailedWarning)\n",
      "C:\\ProgramData\\Anaconda3\\lib\\site-packages\\sklearn\\model_selection\\_search.py:969: UserWarning: One or more of the test scores are non-finite: [       nan        nan 0.57847328 0.57171756 0.57950382 0.5760687\n",
      " 0.57759542 0.57301527 0.58087786 0.57721374 0.58152672 0.57923664\n",
      " 0.57969466 0.58156489 0.58251908 0.5790458  0.58160305 0.58652672\n",
      "        nan        nan 0.58416031 0.57015267 0.58236641 0.58007634\n",
      " 0.58274809 0.57400763 0.58610687 0.57652672 0.58385496 0.57232824\n",
      " 0.58610687 0.58118321 0.58438931 0.58603053 0.58706107 0.58446565]\n",
      "  warnings.warn(\n"
     ]
    },
    {
     "data": {
      "text/plain": [
       "GridSearchCV(cv=RepeatedStratifiedKFold(n_repeats=10, n_splits=5, random_state=101),\n",
       "             estimator=DecisionTreeClassifier(),\n",
       "             param_grid={'criterion': ['gini', 'entropy'],\n",
       "                         'min_samples_split': range(1, 10),\n",
       "                         'splitter': ['best', 'random']},\n",
       "             scoring='accuracy')"
      ]
     },
     "execution_count": 50,
     "metadata": {},
     "output_type": "execute_result"
    }
   ],
   "source": [
    "grid_search_cv_dt.fit(X_train,Y_train)"
   ]
  },
  {
   "cell_type": "code",
   "execution_count": 33,
   "id": "2bee01ca",
   "metadata": {},
   "outputs": [
    {
     "name": "stdout",
     "output_type": "stream",
     "text": [
      "{'criterion': 'entropy', 'min_samples_split': 9, 'splitter': 'best'}\n"
     ]
    }
   ],
   "source": [
    "print(grid_search_cv_dt.best_params_)"
   ]
  },
  {
   "cell_type": "code",
   "execution_count": 34,
   "id": "b971a04f",
   "metadata": {},
   "outputs": [],
   "source": [
    "prediction_grid=grid_search_cv_dt.predict(X_test)"
   ]
  },
  {
   "cell_type": "code",
   "execution_count": 35,
   "id": "25d6c29d",
   "metadata": {},
   "outputs": [
    {
     "data": {
      "text/plain": [
       "0.6021341463414634"
      ]
     },
     "execution_count": 35,
     "metadata": {},
     "output_type": "execute_result"
    }
   ],
   "source": [
    "accuracy_score(Y_test,prediction_grid)"
   ]
  },
  {
   "cell_type": "code",
   "execution_count": 36,
   "id": "fd23956e",
   "metadata": {},
   "outputs": [
    {
     "data": {
      "text/plain": [
       "array([[266, 136],\n",
       "       [125, 129]], dtype=int64)"
      ]
     },
     "execution_count": 36,
     "metadata": {},
     "output_type": "execute_result"
    }
   ],
   "source": [
    "confusion_matrix(Y_test,prediction_grid)"
   ]
  },
  {
   "cell_type": "code",
   "execution_count": null,
   "id": "7de77b34",
   "metadata": {},
   "outputs": [],
   "source": []
  },
  {
   "cell_type": "code",
   "execution_count": 49,
   "id": "69b73477",
   "metadata": {},
   "outputs": [
    {
     "name": "stderr",
     "output_type": "stream",
     "text": [
      "C:\\ProgramData\\Anaconda3\\lib\\site-packages\\sklearn\\base.py:450: UserWarning: X does not have valid feature names, but DecisionTreeClassifier was fitted with feature names\n",
      "  warnings.warn(\n"
     ]
    },
    {
     "data": {
      "text/plain": [
       "array([1], dtype=int64)"
      ]
     },
     "execution_count": 49,
     "metadata": {},
     "output_type": "execute_result"
    }
   ],
   "source": [
    "dt.predict([[5.735724,158.318741,25363.016594,7.728601,377.543291,568.304671,13.626624,75.952337,4.732954]])"
   ]
  },
  {
   "cell_type": "code",
   "execution_count": 48,
   "id": "b73174cf",
   "metadata": {
    "scrolled": true
   },
   "outputs": [
    {
     "data": {
      "text/html": [
       "<div>\n",
       "<style scoped>\n",
       "    .dataframe tbody tr th:only-of-type {\n",
       "        vertical-align: middle;\n",
       "    }\n",
       "\n",
       "    .dataframe tbody tr th {\n",
       "        vertical-align: top;\n",
       "    }\n",
       "\n",
       "    .dataframe thead th {\n",
       "        text-align: right;\n",
       "    }\n",
       "</style>\n",
       "<table border=\"1\" class=\"dataframe\">\n",
       "  <thead>\n",
       "    <tr style=\"text-align: right;\">\n",
       "      <th></th>\n",
       "      <th>ph</th>\n",
       "      <th>Hardness</th>\n",
       "      <th>Solids</th>\n",
       "      <th>Chloramines</th>\n",
       "      <th>Sulfate</th>\n",
       "      <th>Conductivity</th>\n",
       "      <th>Organic_carbon</th>\n",
       "      <th>Trihalomethanes</th>\n",
       "      <th>Turbidity</th>\n",
       "    </tr>\n",
       "  </thead>\n",
       "  <tbody>\n",
       "    <tr>\n",
       "      <th>2541</th>\n",
       "      <td>5.735724</td>\n",
       "      <td>158.318741</td>\n",
       "      <td>25363.016594</td>\n",
       "      <td>7.728601</td>\n",
       "      <td>377.543291</td>\n",
       "      <td>568.304671</td>\n",
       "      <td>13.626624</td>\n",
       "      <td>75.952337</td>\n",
       "      <td>4.732954</td>\n",
       "    </tr>\n",
       "    <tr>\n",
       "      <th>2605</th>\n",
       "      <td>8.445219</td>\n",
       "      <td>228.522860</td>\n",
       "      <td>28966.569327</td>\n",
       "      <td>6.179855</td>\n",
       "      <td>333.775777</td>\n",
       "      <td>361.705354</td>\n",
       "      <td>14.554220</td>\n",
       "      <td>60.612230</td>\n",
       "      <td>4.400706</td>\n",
       "    </tr>\n",
       "    <tr>\n",
       "      <th>330</th>\n",
       "      <td>6.737004</td>\n",
       "      <td>220.100102</td>\n",
       "      <td>24694.744205</td>\n",
       "      <td>8.373660</td>\n",
       "      <td>333.775777</td>\n",
       "      <td>384.308673</td>\n",
       "      <td>6.748092</td>\n",
       "      <td>8.175876</td>\n",
       "      <td>4.063170</td>\n",
       "    </tr>\n",
       "    <tr>\n",
       "      <th>515</th>\n",
       "      <td>5.701155</td>\n",
       "      <td>233.515043</td>\n",
       "      <td>41411.601707</td>\n",
       "      <td>5.895464</td>\n",
       "      <td>310.160545</td>\n",
       "      <td>509.767888</td>\n",
       "      <td>22.686837</td>\n",
       "      <td>73.751883</td>\n",
       "      <td>3.403136</td>\n",
       "    </tr>\n",
       "    <tr>\n",
       "      <th>400</th>\n",
       "      <td>6.259652</td>\n",
       "      <td>208.379430</td>\n",
       "      <td>37356.746401</td>\n",
       "      <td>8.565487</td>\n",
       "      <td>256.473839</td>\n",
       "      <td>380.240193</td>\n",
       "      <td>5.567693</td>\n",
       "      <td>68.441865</td>\n",
       "      <td>4.213405</td>\n",
       "    </tr>\n",
       "    <tr>\n",
       "      <th>...</th>\n",
       "      <td>...</td>\n",
       "      <td>...</td>\n",
       "      <td>...</td>\n",
       "      <td>...</td>\n",
       "      <td>...</td>\n",
       "      <td>...</td>\n",
       "      <td>...</td>\n",
       "      <td>...</td>\n",
       "      <td>...</td>\n",
       "    </tr>\n",
       "    <tr>\n",
       "      <th>482</th>\n",
       "      <td>7.705711</td>\n",
       "      <td>178.922858</td>\n",
       "      <td>18476.619166</td>\n",
       "      <td>8.226228</td>\n",
       "      <td>334.889911</td>\n",
       "      <td>518.043369</td>\n",
       "      <td>10.638798</td>\n",
       "      <td>63.157489</td>\n",
       "      <td>3.861956</td>\n",
       "    </tr>\n",
       "    <tr>\n",
       "      <th>2970</th>\n",
       "      <td>10.933111</td>\n",
       "      <td>162.424918</td>\n",
       "      <td>18846.634913</td>\n",
       "      <td>7.085261</td>\n",
       "      <td>333.775777</td>\n",
       "      <td>593.725764</td>\n",
       "      <td>14.977233</td>\n",
       "      <td>60.690580</td>\n",
       "      <td>3.894989</td>\n",
       "    </tr>\n",
       "    <tr>\n",
       "      <th>50</th>\n",
       "      <td>7.080795</td>\n",
       "      <td>168.388431</td>\n",
       "      <td>27492.307307</td>\n",
       "      <td>7.046225</td>\n",
       "      <td>299.820478</td>\n",
       "      <td>383.795020</td>\n",
       "      <td>16.182066</td>\n",
       "      <td>75.729434</td>\n",
       "      <td>3.048057</td>\n",
       "    </tr>\n",
       "    <tr>\n",
       "      <th>839</th>\n",
       "      <td>7.611610</td>\n",
       "      <td>222.252269</td>\n",
       "      <td>25063.683013</td>\n",
       "      <td>8.561124</td>\n",
       "      <td>287.948123</td>\n",
       "      <td>505.265483</td>\n",
       "      <td>18.273757</td>\n",
       "      <td>68.395413</td>\n",
       "      <td>2.873261</td>\n",
       "    </tr>\n",
       "    <tr>\n",
       "      <th>374</th>\n",
       "      <td>8.882684</td>\n",
       "      <td>135.523062</td>\n",
       "      <td>4857.253807</td>\n",
       "      <td>5.209779</td>\n",
       "      <td>333.775777</td>\n",
       "      <td>532.336659</td>\n",
       "      <td>20.296274</td>\n",
       "      <td>20.337753</td>\n",
       "      <td>3.827921</td>\n",
       "    </tr>\n",
       "  </tbody>\n",
       "</table>\n",
       "<p>656 rows × 9 columns</p>\n",
       "</div>"
      ],
      "text/plain": [
       "             ph    Hardness        Solids  Chloramines     Sulfate  \\\n",
       "2541   5.735724  158.318741  25363.016594     7.728601  377.543291   \n",
       "2605   8.445219  228.522860  28966.569327     6.179855  333.775777   \n",
       "330    6.737004  220.100102  24694.744205     8.373660  333.775777   \n",
       "515    5.701155  233.515043  41411.601707     5.895464  310.160545   \n",
       "400    6.259652  208.379430  37356.746401     8.565487  256.473839   \n",
       "...         ...         ...           ...          ...         ...   \n",
       "482    7.705711  178.922858  18476.619166     8.226228  334.889911   \n",
       "2970  10.933111  162.424918  18846.634913     7.085261  333.775777   \n",
       "50     7.080795  168.388431  27492.307307     7.046225  299.820478   \n",
       "839    7.611610  222.252269  25063.683013     8.561124  287.948123   \n",
       "374    8.882684  135.523062   4857.253807     5.209779  333.775777   \n",
       "\n",
       "      Conductivity  Organic_carbon  Trihalomethanes  Turbidity  \n",
       "2541    568.304671       13.626624        75.952337   4.732954  \n",
       "2605    361.705354       14.554220        60.612230   4.400706  \n",
       "330     384.308673        6.748092         8.175876   4.063170  \n",
       "515     509.767888       22.686837        73.751883   3.403136  \n",
       "400     380.240193        5.567693        68.441865   4.213405  \n",
       "...            ...             ...              ...        ...  \n",
       "482     518.043369       10.638798        63.157489   3.861956  \n",
       "2970    593.725764       14.977233        60.690580   3.894989  \n",
       "50      383.795020       16.182066        75.729434   3.048057  \n",
       "839     505.265483       18.273757        68.395413   2.873261  \n",
       "374     532.336659       20.296274        20.337753   3.827921  \n",
       "\n",
       "[656 rows x 9 columns]"
      ]
     },
     "execution_count": 48,
     "metadata": {},
     "output_type": "execute_result"
    }
   ],
   "source": [
    "X_test"
   ]
  },
  {
   "cell_type": "code",
   "execution_count": null,
   "id": "2ff52fe8",
   "metadata": {},
   "outputs": [],
   "source": []
  },
  {
   "cell_type": "markdown",
   "id": "d5b2dad9",
   "metadata": {},
   "source": [
    "###knn"
   ]
  },
  {
   "cell_type": "code",
   "execution_count": 183,
   "id": "2a77de1e",
   "metadata": {},
   "outputs": [],
   "source": [
    "from sklearn.neighbors import KNeighborsClassifier"
   ]
  },
  {
   "cell_type": "code",
   "execution_count": 184,
   "id": "f044fb5c",
   "metadata": {},
   "outputs": [
    {
     "data": {
      "text/plain": [
       "KNeighborsClassifier(metric='manhattan', n_neighbors=22)"
      ]
     },
     "execution_count": 184,
     "metadata": {},
     "output_type": "execute_result"
    }
   ],
   "source": [
    "knn=KNeighborsClassifier(metric='manhattan', n_neighbors=22)\n",
    "knn.fit(X_train,Y_train)"
   ]
  },
  {
   "cell_type": "code",
   "execution_count": 185,
   "id": "13994eff",
   "metadata": {},
   "outputs": [
    {
     "name": "stdout",
     "output_type": "stream",
     "text": [
      "accuracy_score score     :  61.737804878048784 %\n"
     ]
    }
   ],
   "source": [
    "prediction_knn=knn.predict(X_test)\n",
    "accuracy_knn=accuracy_score(Y_test,prediction_knn)*100\n",
    "print('accuracy_score score     : ',accuracy_score(Y_test,prediction_knn)*100,'%')"
   ]
  },
  {
   "cell_type": "code",
   "execution_count": 187,
   "id": "bf3a5fcb",
   "metadata": {},
   "outputs": [
    {
     "data": {
      "text/plain": [
       "array([[264, 130],\n",
       "       [138, 124]], dtype=int64)"
      ]
     },
     "execution_count": 187,
     "metadata": {},
     "output_type": "execute_result"
    }
   ],
   "source": [
    "confusion_matrix(Y_prediction,Y_test)"
   ]
  },
  {
   "cell_type": "code",
   "execution_count": null,
   "id": "17b88501",
   "metadata": {},
   "outputs": [],
   "source": []
  },
  {
   "cell_type": "code",
   "execution_count": null,
   "id": "18b91bba",
   "metadata": {},
   "outputs": [],
   "source": []
  },
  {
   "cell_type": "markdown",
   "id": "389a1e4e",
   "metadata": {},
   "source": [
    "###HPT"
   ]
  },
  {
   "cell_type": "code",
   "execution_count": 190,
   "id": "6b5814e8",
   "metadata": {},
   "outputs": [
    {
     "name": "stdout",
     "output_type": "stream",
     "text": [
      "Best: 0.603 using {'metric': 'manhattan', 'n_neighbors': 22, 'weights': 'uniform'}\n",
      "0.536 (0.029) with: {'metric': 'euclidean', 'n_neighbors': 1, 'weights': 'uniform'}\n",
      "0.536 (0.029) with: {'metric': 'euclidean', 'n_neighbors': 1, 'weights': 'distance'}\n",
      "0.579 (0.020) with: {'metric': 'euclidean', 'n_neighbors': 2, 'weights': 'uniform'}\n",
      "0.536 (0.029) with: {'metric': 'euclidean', 'n_neighbors': 2, 'weights': 'distance'}\n",
      "0.542 (0.023) with: {'metric': 'euclidean', 'n_neighbors': 3, 'weights': 'uniform'}\n",
      "0.542 (0.024) with: {'metric': 'euclidean', 'n_neighbors': 3, 'weights': 'distance'}\n",
      "0.574 (0.017) with: {'metric': 'euclidean', 'n_neighbors': 4, 'weights': 'uniform'}\n",
      "0.542 (0.016) with: {'metric': 'euclidean', 'n_neighbors': 4, 'weights': 'distance'}\n",
      "0.545 (0.020) with: {'metric': 'euclidean', 'n_neighbors': 5, 'weights': 'uniform'}\n",
      "0.544 (0.020) with: {'metric': 'euclidean', 'n_neighbors': 5, 'weights': 'distance'}\n",
      "0.579 (0.020) with: {'metric': 'euclidean', 'n_neighbors': 6, 'weights': 'uniform'}\n",
      "0.556 (0.025) with: {'metric': 'euclidean', 'n_neighbors': 6, 'weights': 'distance'}\n",
      "0.561 (0.022) with: {'metric': 'euclidean', 'n_neighbors': 7, 'weights': 'uniform'}\n",
      "0.564 (0.018) with: {'metric': 'euclidean', 'n_neighbors': 7, 'weights': 'distance'}\n",
      "0.580 (0.028) with: {'metric': 'euclidean', 'n_neighbors': 8, 'weights': 'uniform'}\n",
      "0.564 (0.027) with: {'metric': 'euclidean', 'n_neighbors': 8, 'weights': 'distance'}\n",
      "0.560 (0.024) with: {'metric': 'euclidean', 'n_neighbors': 9, 'weights': 'uniform'}\n",
      "0.569 (0.026) with: {'metric': 'euclidean', 'n_neighbors': 9, 'weights': 'distance'}\n",
      "0.585 (0.020) with: {'metric': 'euclidean', 'n_neighbors': 10, 'weights': 'uniform'}\n",
      "0.566 (0.027) with: {'metric': 'euclidean', 'n_neighbors': 10, 'weights': 'distance'}\n",
      "0.557 (0.021) with: {'metric': 'euclidean', 'n_neighbors': 11, 'weights': 'uniform'}\n",
      "0.566 (0.025) with: {'metric': 'euclidean', 'n_neighbors': 11, 'weights': 'distance'}\n",
      "0.584 (0.015) with: {'metric': 'euclidean', 'n_neighbors': 12, 'weights': 'uniform'}\n",
      "0.563 (0.025) with: {'metric': 'euclidean', 'n_neighbors': 12, 'weights': 'distance'}\n",
      "0.565 (0.019) with: {'metric': 'euclidean', 'n_neighbors': 13, 'weights': 'uniform'}\n",
      "0.561 (0.027) with: {'metric': 'euclidean', 'n_neighbors': 13, 'weights': 'distance'}\n",
      "0.588 (0.010) with: {'metric': 'euclidean', 'n_neighbors': 14, 'weights': 'uniform'}\n",
      "0.569 (0.024) with: {'metric': 'euclidean', 'n_neighbors': 14, 'weights': 'distance'}\n",
      "0.581 (0.013) with: {'metric': 'euclidean', 'n_neighbors': 15, 'weights': 'uniform'}\n",
      "0.574 (0.025) with: {'metric': 'euclidean', 'n_neighbors': 15, 'weights': 'distance'}\n",
      "0.590 (0.011) with: {'metric': 'euclidean', 'n_neighbors': 16, 'weights': 'uniform'}\n",
      "0.575 (0.024) with: {'metric': 'euclidean', 'n_neighbors': 16, 'weights': 'distance'}\n",
      "0.578 (0.015) with: {'metric': 'euclidean', 'n_neighbors': 17, 'weights': 'uniform'}\n",
      "0.572 (0.025) with: {'metric': 'euclidean', 'n_neighbors': 17, 'weights': 'distance'}\n",
      "0.590 (0.012) with: {'metric': 'euclidean', 'n_neighbors': 18, 'weights': 'uniform'}\n",
      "0.580 (0.023) with: {'metric': 'euclidean', 'n_neighbors': 18, 'weights': 'distance'}\n",
      "0.586 (0.012) with: {'metric': 'euclidean', 'n_neighbors': 19, 'weights': 'uniform'}\n",
      "0.585 (0.025) with: {'metric': 'euclidean', 'n_neighbors': 19, 'weights': 'distance'}\n",
      "0.595 (0.013) with: {'metric': 'euclidean', 'n_neighbors': 20, 'weights': 'uniform'}\n",
      "0.581 (0.020) with: {'metric': 'euclidean', 'n_neighbors': 20, 'weights': 'distance'}\n",
      "0.589 (0.014) with: {'metric': 'euclidean', 'n_neighbors': 21, 'weights': 'uniform'}\n",
      "0.585 (0.019) with: {'metric': 'euclidean', 'n_neighbors': 21, 'weights': 'distance'}\n",
      "0.598 (0.015) with: {'metric': 'euclidean', 'n_neighbors': 22, 'weights': 'uniform'}\n",
      "0.586 (0.021) with: {'metric': 'euclidean', 'n_neighbors': 22, 'weights': 'distance'}\n",
      "0.592 (0.014) with: {'metric': 'euclidean', 'n_neighbors': 23, 'weights': 'uniform'}\n",
      "0.587 (0.016) with: {'metric': 'euclidean', 'n_neighbors': 23, 'weights': 'distance'}\n",
      "0.598 (0.016) with: {'metric': 'euclidean', 'n_neighbors': 24, 'weights': 'uniform'}\n",
      "0.587 (0.016) with: {'metric': 'euclidean', 'n_neighbors': 24, 'weights': 'distance'}\n",
      "0.590 (0.016) with: {'metric': 'euclidean', 'n_neighbors': 25, 'weights': 'uniform'}\n",
      "0.587 (0.018) with: {'metric': 'euclidean', 'n_neighbors': 25, 'weights': 'distance'}\n",
      "0.600 (0.015) with: {'metric': 'euclidean', 'n_neighbors': 26, 'weights': 'uniform'}\n",
      "0.584 (0.018) with: {'metric': 'euclidean', 'n_neighbors': 26, 'weights': 'distance'}\n",
      "0.590 (0.013) with: {'metric': 'euclidean', 'n_neighbors': 27, 'weights': 'uniform'}\n",
      "0.588 (0.019) with: {'metric': 'euclidean', 'n_neighbors': 27, 'weights': 'distance'}\n",
      "0.595 (0.015) with: {'metric': 'euclidean', 'n_neighbors': 28, 'weights': 'uniform'}\n",
      "0.583 (0.019) with: {'metric': 'euclidean', 'n_neighbors': 28, 'weights': 'distance'}\n",
      "0.589 (0.018) with: {'metric': 'euclidean', 'n_neighbors': 29, 'weights': 'uniform'}\n",
      "0.590 (0.015) with: {'metric': 'euclidean', 'n_neighbors': 29, 'weights': 'distance'}\n",
      "0.590 (0.015) with: {'metric': 'euclidean', 'n_neighbors': 30, 'weights': 'uniform'}\n",
      "0.588 (0.020) with: {'metric': 'euclidean', 'n_neighbors': 30, 'weights': 'distance'}\n",
      "0.534 (0.031) with: {'metric': 'manhattan', 'n_neighbors': 1, 'weights': 'uniform'}\n",
      "0.534 (0.031) with: {'metric': 'manhattan', 'n_neighbors': 1, 'weights': 'distance'}\n",
      "0.589 (0.017) with: {'metric': 'manhattan', 'n_neighbors': 2, 'weights': 'uniform'}\n",
      "0.534 (0.031) with: {'metric': 'manhattan', 'n_neighbors': 2, 'weights': 'distance'}\n",
      "0.550 (0.018) with: {'metric': 'manhattan', 'n_neighbors': 3, 'weights': 'uniform'}\n",
      "0.544 (0.018) with: {'metric': 'manhattan', 'n_neighbors': 3, 'weights': 'distance'}\n",
      "0.577 (0.019) with: {'metric': 'manhattan', 'n_neighbors': 4, 'weights': 'uniform'}\n",
      "0.555 (0.020) with: {'metric': 'manhattan', 'n_neighbors': 4, 'weights': 'distance'}\n",
      "0.556 (0.020) with: {'metric': 'manhattan', 'n_neighbors': 5, 'weights': 'uniform'}\n",
      "0.556 (0.016) with: {'metric': 'manhattan', 'n_neighbors': 5, 'weights': 'distance'}\n",
      "0.585 (0.020) with: {'metric': 'manhattan', 'n_neighbors': 6, 'weights': 'uniform'}\n",
      "0.564 (0.021) with: {'metric': 'manhattan', 'n_neighbors': 6, 'weights': 'distance'}\n",
      "0.571 (0.016) with: {'metric': 'manhattan', 'n_neighbors': 7, 'weights': 'uniform'}\n",
      "0.571 (0.021) with: {'metric': 'manhattan', 'n_neighbors': 7, 'weights': 'distance'}\n",
      "0.586 (0.019) with: {'metric': 'manhattan', 'n_neighbors': 8, 'weights': 'uniform'}\n",
      "0.571 (0.020) with: {'metric': 'manhattan', 'n_neighbors': 8, 'weights': 'distance'}\n",
      "0.571 (0.021) with: {'metric': 'manhattan', 'n_neighbors': 9, 'weights': 'uniform'}\n",
      "0.574 (0.025) with: {'metric': 'manhattan', 'n_neighbors': 9, 'weights': 'distance'}\n",
      "0.581 (0.014) with: {'metric': 'manhattan', 'n_neighbors': 10, 'weights': 'uniform'}\n",
      "0.571 (0.024) with: {'metric': 'manhattan', 'n_neighbors': 10, 'weights': 'distance'}\n",
      "0.562 (0.023) with: {'metric': 'manhattan', 'n_neighbors': 11, 'weights': 'uniform'}\n",
      "0.575 (0.026) with: {'metric': 'manhattan', 'n_neighbors': 11, 'weights': 'distance'}\n",
      "0.582 (0.019) with: {'metric': 'manhattan', 'n_neighbors': 12, 'weights': 'uniform'}\n",
      "0.570 (0.031) with: {'metric': 'manhattan', 'n_neighbors': 12, 'weights': 'distance'}\n",
      "0.572 (0.021) with: {'metric': 'manhattan', 'n_neighbors': 13, 'weights': 'uniform'}\n",
      "0.571 (0.030) with: {'metric': 'manhattan', 'n_neighbors': 13, 'weights': 'distance'}\n",
      "0.583 (0.012) with: {'metric': 'manhattan', 'n_neighbors': 14, 'weights': 'uniform'}\n",
      "0.569 (0.024) with: {'metric': 'manhattan', 'n_neighbors': 14, 'weights': 'distance'}\n",
      "0.571 (0.017) with: {'metric': 'manhattan', 'n_neighbors': 15, 'weights': 'uniform'}\n",
      "0.568 (0.023) with: {'metric': 'manhattan', 'n_neighbors': 15, 'weights': 'distance'}\n",
      "0.585 (0.010) with: {'metric': 'manhattan', 'n_neighbors': 16, 'weights': 'uniform'}\n",
      "0.574 (0.030) with: {'metric': 'manhattan', 'n_neighbors': 16, 'weights': 'distance'}\n",
      "0.579 (0.017) with: {'metric': 'manhattan', 'n_neighbors': 17, 'weights': 'uniform'}\n",
      "0.585 (0.021) with: {'metric': 'manhattan', 'n_neighbors': 17, 'weights': 'distance'}\n",
      "0.593 (0.011) with: {'metric': 'manhattan', 'n_neighbors': 18, 'weights': 'uniform'}\n",
      "0.587 (0.021) with: {'metric': 'manhattan', 'n_neighbors': 18, 'weights': 'distance'}\n",
      "0.590 (0.016) with: {'metric': 'manhattan', 'n_neighbors': 19, 'weights': 'uniform'}\n",
      "0.592 (0.022) with: {'metric': 'manhattan', 'n_neighbors': 19, 'weights': 'distance'}\n",
      "0.597 (0.008) with: {'metric': 'manhattan', 'n_neighbors': 20, 'weights': 'uniform'}\n",
      "0.589 (0.021) with: {'metric': 'manhattan', 'n_neighbors': 20, 'weights': 'distance'}\n",
      "0.592 (0.012) with: {'metric': 'manhattan', 'n_neighbors': 21, 'weights': 'uniform'}\n",
      "0.592 (0.020) with: {'metric': 'manhattan', 'n_neighbors': 21, 'weights': 'distance'}\n",
      "0.603 (0.013) with: {'metric': 'manhattan', 'n_neighbors': 22, 'weights': 'uniform'}\n",
      "0.588 (0.022) with: {'metric': 'manhattan', 'n_neighbors': 22, 'weights': 'distance'}\n",
      "0.595 (0.015) with: {'metric': 'manhattan', 'n_neighbors': 23, 'weights': 'uniform'}\n",
      "0.592 (0.019) with: {'metric': 'manhattan', 'n_neighbors': 23, 'weights': 'distance'}\n",
      "0.599 (0.015) with: {'metric': 'manhattan', 'n_neighbors': 24, 'weights': 'uniform'}\n",
      "0.594 (0.018) with: {'metric': 'manhattan', 'n_neighbors': 24, 'weights': 'distance'}\n",
      "0.592 (0.013) with: {'metric': 'manhattan', 'n_neighbors': 25, 'weights': 'uniform'}\n",
      "0.596 (0.019) with: {'metric': 'manhattan', 'n_neighbors': 25, 'weights': 'distance'}\n",
      "0.595 (0.017) with: {'metric': 'manhattan', 'n_neighbors': 26, 'weights': 'uniform'}\n",
      "0.593 (0.016) with: {'metric': 'manhattan', 'n_neighbors': 26, 'weights': 'distance'}\n",
      "0.593 (0.015) with: {'metric': 'manhattan', 'n_neighbors': 27, 'weights': 'uniform'}\n",
      "0.598 (0.021) with: {'metric': 'manhattan', 'n_neighbors': 27, 'weights': 'distance'}\n",
      "0.598 (0.016) with: {'metric': 'manhattan', 'n_neighbors': 28, 'weights': 'uniform'}\n",
      "0.597 (0.017) with: {'metric': 'manhattan', 'n_neighbors': 28, 'weights': 'distance'}\n",
      "0.592 (0.013) with: {'metric': 'manhattan', 'n_neighbors': 29, 'weights': 'uniform'}\n",
      "0.599 (0.017) with: {'metric': 'manhattan', 'n_neighbors': 29, 'weights': 'distance'}\n",
      "0.597 (0.011) with: {'metric': 'manhattan', 'n_neighbors': 30, 'weights': 'uniform'}\n",
      "0.595 (0.016) with: {'metric': 'manhattan', 'n_neighbors': 30, 'weights': 'distance'}\n",
      "0.536 (0.029) with: {'metric': 'minkowski', 'n_neighbors': 1, 'weights': 'uniform'}\n",
      "0.536 (0.029) with: {'metric': 'minkowski', 'n_neighbors': 1, 'weights': 'distance'}\n",
      "0.579 (0.020) with: {'metric': 'minkowski', 'n_neighbors': 2, 'weights': 'uniform'}\n",
      "0.536 (0.029) with: {'metric': 'minkowski', 'n_neighbors': 2, 'weights': 'distance'}\n",
      "0.542 (0.023) with: {'metric': 'minkowski', 'n_neighbors': 3, 'weights': 'uniform'}\n",
      "0.542 (0.024) with: {'metric': 'minkowski', 'n_neighbors': 3, 'weights': 'distance'}\n",
      "0.574 (0.017) with: {'metric': 'minkowski', 'n_neighbors': 4, 'weights': 'uniform'}\n",
      "0.542 (0.016) with: {'metric': 'minkowski', 'n_neighbors': 4, 'weights': 'distance'}\n",
      "0.545 (0.020) with: {'metric': 'minkowski', 'n_neighbors': 5, 'weights': 'uniform'}\n",
      "0.544 (0.020) with: {'metric': 'minkowski', 'n_neighbors': 5, 'weights': 'distance'}\n",
      "0.579 (0.020) with: {'metric': 'minkowski', 'n_neighbors': 6, 'weights': 'uniform'}\n",
      "0.556 (0.025) with: {'metric': 'minkowski', 'n_neighbors': 6, 'weights': 'distance'}\n",
      "0.561 (0.022) with: {'metric': 'minkowski', 'n_neighbors': 7, 'weights': 'uniform'}\n",
      "0.564 (0.018) with: {'metric': 'minkowski', 'n_neighbors': 7, 'weights': 'distance'}\n",
      "0.580 (0.028) with: {'metric': 'minkowski', 'n_neighbors': 8, 'weights': 'uniform'}\n",
      "0.564 (0.027) with: {'metric': 'minkowski', 'n_neighbors': 8, 'weights': 'distance'}\n",
      "0.560 (0.024) with: {'metric': 'minkowski', 'n_neighbors': 9, 'weights': 'uniform'}\n",
      "0.569 (0.026) with: {'metric': 'minkowski', 'n_neighbors': 9, 'weights': 'distance'}\n",
      "0.585 (0.020) with: {'metric': 'minkowski', 'n_neighbors': 10, 'weights': 'uniform'}\n",
      "0.566 (0.027) with: {'metric': 'minkowski', 'n_neighbors': 10, 'weights': 'distance'}\n",
      "0.557 (0.021) with: {'metric': 'minkowski', 'n_neighbors': 11, 'weights': 'uniform'}\n",
      "0.566 (0.025) with: {'metric': 'minkowski', 'n_neighbors': 11, 'weights': 'distance'}\n",
      "0.584 (0.015) with: {'metric': 'minkowski', 'n_neighbors': 12, 'weights': 'uniform'}\n",
      "0.563 (0.025) with: {'metric': 'minkowski', 'n_neighbors': 12, 'weights': 'distance'}\n",
      "0.565 (0.019) with: {'metric': 'minkowski', 'n_neighbors': 13, 'weights': 'uniform'}\n",
      "0.561 (0.027) with: {'metric': 'minkowski', 'n_neighbors': 13, 'weights': 'distance'}\n",
      "0.588 (0.010) with: {'metric': 'minkowski', 'n_neighbors': 14, 'weights': 'uniform'}\n",
      "0.569 (0.024) with: {'metric': 'minkowski', 'n_neighbors': 14, 'weights': 'distance'}\n",
      "0.581 (0.013) with: {'metric': 'minkowski', 'n_neighbors': 15, 'weights': 'uniform'}\n",
      "0.574 (0.025) with: {'metric': 'minkowski', 'n_neighbors': 15, 'weights': 'distance'}\n",
      "0.590 (0.011) with: {'metric': 'minkowski', 'n_neighbors': 16, 'weights': 'uniform'}\n",
      "0.575 (0.024) with: {'metric': 'minkowski', 'n_neighbors': 16, 'weights': 'distance'}\n",
      "0.578 (0.015) with: {'metric': 'minkowski', 'n_neighbors': 17, 'weights': 'uniform'}\n",
      "0.572 (0.025) with: {'metric': 'minkowski', 'n_neighbors': 17, 'weights': 'distance'}\n",
      "0.590 (0.012) with: {'metric': 'minkowski', 'n_neighbors': 18, 'weights': 'uniform'}\n",
      "0.580 (0.023) with: {'metric': 'minkowski', 'n_neighbors': 18, 'weights': 'distance'}\n",
      "0.586 (0.012) with: {'metric': 'minkowski', 'n_neighbors': 19, 'weights': 'uniform'}\n",
      "0.585 (0.025) with: {'metric': 'minkowski', 'n_neighbors': 19, 'weights': 'distance'}\n",
      "0.595 (0.013) with: {'metric': 'minkowski', 'n_neighbors': 20, 'weights': 'uniform'}\n",
      "0.581 (0.020) with: {'metric': 'minkowski', 'n_neighbors': 20, 'weights': 'distance'}\n",
      "0.589 (0.014) with: {'metric': 'minkowski', 'n_neighbors': 21, 'weights': 'uniform'}\n",
      "0.585 (0.019) with: {'metric': 'minkowski', 'n_neighbors': 21, 'weights': 'distance'}\n",
      "0.598 (0.015) with: {'metric': 'minkowski', 'n_neighbors': 22, 'weights': 'uniform'}\n",
      "0.586 (0.021) with: {'metric': 'minkowski', 'n_neighbors': 22, 'weights': 'distance'}\n",
      "0.592 (0.014) with: {'metric': 'minkowski', 'n_neighbors': 23, 'weights': 'uniform'}\n",
      "0.587 (0.016) with: {'metric': 'minkowski', 'n_neighbors': 23, 'weights': 'distance'}\n",
      "0.598 (0.016) with: {'metric': 'minkowski', 'n_neighbors': 24, 'weights': 'uniform'}\n",
      "0.587 (0.016) with: {'metric': 'minkowski', 'n_neighbors': 24, 'weights': 'distance'}\n",
      "0.590 (0.016) with: {'metric': 'minkowski', 'n_neighbors': 25, 'weights': 'uniform'}\n",
      "0.587 (0.018) with: {'metric': 'minkowski', 'n_neighbors': 25, 'weights': 'distance'}\n",
      "0.600 (0.015) with: {'metric': 'minkowski', 'n_neighbors': 26, 'weights': 'uniform'}\n",
      "0.584 (0.018) with: {'metric': 'minkowski', 'n_neighbors': 26, 'weights': 'distance'}\n",
      "0.590 (0.013) with: {'metric': 'minkowski', 'n_neighbors': 27, 'weights': 'uniform'}\n",
      "0.588 (0.019) with: {'metric': 'minkowski', 'n_neighbors': 27, 'weights': 'distance'}\n",
      "0.595 (0.015) with: {'metric': 'minkowski', 'n_neighbors': 28, 'weights': 'uniform'}\n",
      "0.583 (0.019) with: {'metric': 'minkowski', 'n_neighbors': 28, 'weights': 'distance'}\n",
      "0.589 (0.018) with: {'metric': 'minkowski', 'n_neighbors': 29, 'weights': 'uniform'}\n",
      "0.590 (0.015) with: {'metric': 'minkowski', 'n_neighbors': 29, 'weights': 'distance'}\n",
      "0.590 (0.015) with: {'metric': 'minkowski', 'n_neighbors': 30, 'weights': 'uniform'}\n",
      "0.588 (0.020) with: {'metric': 'minkowski', 'n_neighbors': 30, 'weights': 'distance'}\n"
     ]
    }
   ],
   "source": [
    "from sklearn.neighbors import KNeighborsClassifier\n",
    "from sklearn.model_selection import RepeatedStratifiedKFold\n",
    "from sklearn.model_selection import GridSearchCV\n",
    "\n",
    "dt = KNeighborsClassifier()\n",
    "n_neighbors = range(1, 31)\n",
    "weights = ['uniform', 'distance']\n",
    "metric = ['euclidean', 'manhattan', 'minkowski']\n",
    "\n",
    "parameters = dict(n_neighbors=n_neighbors,weights=weights,metric=metric)\n",
    "cv = RepeatedStratifiedKFold(n_splits=10, n_repeats=1, random_state=1)\n",
    "grid_search_knn = GridSearchCV(estimator=dt, param_grid=parameters, n_jobs=-1, cv=cv, \n",
    "                           scoring='accuracy',error_score=0, return_train_score=True)\n",
    "grid_search_knn.fit(X_train, Y_train)\n",
    "\n",
    "print(f\"Best: {grid_search_knn.best_score_:.3f} using {grid_search_knn.best_params_}\")\n",
    "means = grid_search_knn.cv_results_['mean_test_score']\n",
    "stds = grid_search_knn.cv_results_['std_test_score']\n",
    "params = grid_search_knn.cv_results_['params']\n",
    "\n",
    "for mean, stdev, param in zip(means, stds, params):\n",
    "    print(f\"{mean:.3f} ({stdev:.3f}) with: {param}\")"
   ]
  },
  {
   "cell_type": "code",
   "execution_count": null,
   "id": "8414cfdb",
   "metadata": {},
   "outputs": [],
   "source": []
  }
 ],
 "metadata": {
  "kernelspec": {
   "display_name": "Python 3 (ipykernel)",
   "language": "python",
   "name": "python3"
  },
  "language_info": {
   "codemirror_mode": {
    "name": "ipython",
    "version": 3
   },
   "file_extension": ".py",
   "mimetype": "text/x-python",
   "name": "python",
   "nbconvert_exporter": "python",
   "pygments_lexer": "ipython3",
   "version": "3.9.12"
  }
 },
 "nbformat": 4,
 "nbformat_minor": 5
}
